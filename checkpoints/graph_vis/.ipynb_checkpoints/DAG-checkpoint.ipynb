{
 "cells": [
  {
   "cell_type": "markdown",
   "metadata": {},
   "source": [
    "## Inspect Pipeline"
   ]
  },
  {
   "cell_type": "markdown",
   "metadata": {},
   "source": [
    "### 1. pandas"
   ]
  },
  {
   "cell_type": "code",
   "execution_count": 1,
   "metadata": {},
   "outputs": [],
   "source": [
    "import inspect\n",
    "import pandas as pd\n",
    "\n",
    "\n",
    "\n",
    "def func_aggregation(pipeline_func):\n",
    "    '''\n",
    "    This function is used for line execution with exec()\n",
    "    \n",
    "    args:\n",
    "        function strings after inspect\n",
    "    returns:\n",
    "        list of functionable strings for exec()\n",
    "        (input params, executable lines, output) \n",
    "    '''\n",
    "    func_str = inspect.getsource(pipeline_func)\n",
    "    res = [] # executables for return\n",
    "    stack_for_parent = [] # stack storing brackets for line integration\n",
    "    logs_of_parent = [] # logs of lines for concat\n",
    "#     convert function codes to list of strings\n",
    "    func_list = [item.strip() for item in func_str.split('\\n')]\n",
    "#     function args\n",
    "    func_args = [item.strip() for item in func_list[0].split('(')[1].rstrip('):').split(',')]\n",
    "    for item in func_list[1:]:\n",
    "        if not item:\n",
    "            continue\n",
    "        logs_of_parent.append(item)\n",
    "        for char in item:\n",
    "            if char == '(':\n",
    "                stack_for_parent.append('(')\n",
    "            if char == '[':\n",
    "                stack_for_parent.append('[')\n",
    "            if char == ')' and stack_for_parent[-1] == '(':\n",
    "                stack_for_parent.pop(-1)\n",
    "            if char == ']' and stack_for_parent[-1] == '[':\n",
    "                stack_for_parent.pop(-1)\n",
    "        if not stack_for_parent:\n",
    "            res.append(''.join(logs_of_parent))\n",
    "            logs_of_parent.clear()\n",
    "    return func_args, res[:-1], [item.strip() for item in res[-1].replace('return ', '').split(',')]\n",
    "\n",
    "def find_pd_lines(pipeline_func):\n",
    "    pd_lines = []\n",
    "    input_args , executable_list, _ = func_aggregation(pipeline_func)\n",
    "    for line in input_args:\n",
    "        exec(line)\n",
    "    for cur_line in executable_list:\n",
    "        exec(cur_line)\n",
    "        try: \n",
    "            if str(eval(f\"type({cur_line.split('=')[0].strip()})\")) == \"<class 'pandas.core.frame.DataFrame'>\":\n",
    "                pd_lines.append(cur_line)\n",
    "        except:\n",
    "            print(\"[ERROR]: error in finding pandas code\")\n",
    "    return pd_lines"
   ]
  },
  {
   "cell_type": "code",
   "execution_count": 2,
   "metadata": {},
   "outputs": [],
   "source": [
    "import re\n",
    "\n",
    "class DataFlowVertex:\n",
    "    def __init__(self, parent_vertices, name, operation, params):\n",
    "        self.parent_vertices = parent_vertices\n",
    "        self.name = name\n",
    "        self.operation = operation\n",
    "        self.params = params\n",
    "        \n",
    "    def __repr__(self):\n",
    "        return \"(vertex_name={}: parent={}, op={}, params={})\".format(self.name, self.parent_vertices, self.operation, self.params)\n",
    "    \n",
    "    def display(self):\n",
    "        print(\"(vertex_name={}: parent={}, op={}, params={})\".format(self.name, self.parent_vertices, self.operation, self.params))\n",
    "\n",
    "def search_vertex_by_names(names, vertices_list):\n",
    "    result = []\n",
    "    for vertex in vertices_list:\n",
    "        if vertex.name in names:\n",
    "            result.append(vertex)\n",
    "    return result\n",
    "\n",
    "\n",
    "def pd_to_dataflow_graph(pipeline_func, parent_vertices=[]):\n",
    "    executable_list = find_pd_lines(pipeline_func)\n",
    "    graph = []\n",
    "    previous = []\n",
    "    \n",
    "    for line in executable_list:\n",
    "        var_name = line.split('=')[0].strip()\n",
    "\n",
    "        # match \".func_name(...)\"\n",
    "        pd_func = re.search('\\.\\s*([_a-z]*)\\s*\\(',line)  \n",
    "        if pd_func:\n",
    "            func_name = pd_func.group(1)\n",
    "            params = re.search('\\(([^\\)]*)\\)',line)  #\"(...)\"\n",
    "            \n",
    "            if params:\n",
    "                params = params.group(1).strip()\n",
    "\n",
    "                if func_name == 'read_csv': #df = pd.read_csv(path)\n",
    "                    vertex = DataFlowVertex(parent_vertices,var_name, func_name, params)\n",
    "                    previous.append(vertex)\n",
    "\n",
    "                elif func_name in ['join','merge','concat']:\n",
    "                    if func_name == 'concat': #df_new = pd.concat([df1,df2],keys=[])\n",
    "                        df_names = [name.strip() for name in params.strip('[]').split(',')]\n",
    "\n",
    "                    else: # df_new = df1.join/merge(df2,on='...',how='...')\n",
    "                        df_names = [re.split(\"[.=]\",line)[1].strip(), params.split(',')[0].strip()]      \n",
    "                    parent_vertices = search_vertex_by_names(df_names, graph) #search in graph by df_names\n",
    "                    vertex = DataFlowVertex(previous, var_name, func_name, params) #TODO vertex name?\n",
    "                    previous = [vertex]\n",
    "\n",
    "                else:\n",
    "                    vertex = DataFlowVertex(previous, func_name+' '+params, func_name, params)\n",
    "                    previous = [vertex]\n",
    "\n",
    "\n",
    "        # filter operation: \"df[[cols]]\", \"df[condition]\",\"df.loc[]\",\"df.iloc[]\"\n",
    "        else:\n",
    "            is_filter = re.search('\\[([^\\[\\]]+)\\]',line) #\"[...]\"\n",
    "            if is_filter:\n",
    "                filter_cond = is_filter.group(1)\n",
    "                vertex = DataFlowVertex(previous, 'select '+filter_cond, 'filter', filter_cond)\n",
    "                previous = [vertex]\n",
    "\n",
    "        graph.append(vertex)\n",
    "            \n",
    "    return graph, previous"
   ]
  },
  {
   "cell_type": "markdown",
   "metadata": {},
   "source": [
    "### 2. Sklearn --> Graph"
   ]
  },
  {
   "cell_type": "code",
   "execution_count": 3,
   "metadata": {},
   "outputs": [],
   "source": [
    "def topo_sort(graph):\n",
    "    adjacency_list = {vertex.name: [] for vertex in graph}\n",
    "    visited = {vertex.name: False for vertex in graph}\n",
    "\n",
    "    for vertex in graph:\n",
    "        for parent_vertex in vertex.parent_vertices:\n",
    "            adjacency_list[parent_vertex.name].append(vertex.name)\n",
    "\n",
    "    output = []\n",
    "\n",
    "    def toposort(vertex_name, adjacency_list, visited, output):\n",
    "        visited[vertex_name] = True\n",
    "        for child_name in adjacency_list[vertex_name]:\n",
    "            if not visited[child_name]:\n",
    "                toposort(child_name, adjacency_list, visited, output)\n",
    "        output.append(vertex_name)\n",
    "\n",
    "    for vertex_name in adjacency_list.keys():\n",
    "        if not visited[vertex_name]:\n",
    "            toposort(vertex_name, adjacency_list, visited, output)\n",
    "\n",
    "    output.reverse()\n",
    "\n",
    "    vertices_by_name = {vertex.name: vertex for vertex in graph}\n",
    "\n",
    "    sorted_graph = []\n",
    "    for vertex_name in output:\n",
    "        sorted_graph.append(vertices_by_name[vertex_name])\n",
    "    return sorted_graph\n",
    "\n",
    "\n",
    "def find_sink(graph):\n",
    "    sorted_graph = topo_sort(graph)\n",
    "    return sorted_graph[-1]\n",
    "\n",
    "def pipeline_to_dataflow_graph(pipeline, name_prefix='', parent_vertices=[]):\n",
    "    graph = []\n",
    "    parent_vertices_for_current_step = parent_vertices\n",
    "    parent_vertices_for_next_step = []\n",
    "\n",
    "    for step_name, component in pipeline.steps:\n",
    "        component_class_name = component.__class__.__name__\n",
    "\n",
    "        if component_class_name == 'ColumnTransformer':\n",
    "            for transformer_prefix, transformer_component, columns in component.transformers:\n",
    "                for column in columns:\n",
    "                    name = name_prefix + step_name + '__' + transformer_prefix + \"__\" + column\n",
    "                    transformer_component_class_name = transformer_component.__class__.__name__\n",
    "\n",
    "                    if transformer_component_class_name == 'Pipeline':\n",
    "\n",
    "                        vertices_to_add = pipeline_to_dataflow_graph(transformer_component,\n",
    "                                                                     name + \"__\",\n",
    "                                                                     parent_vertices_for_current_step)\n",
    "\n",
    "                        for vertex in vertices_to_add:\n",
    "                            graph.append(vertex)\n",
    "\n",
    "                        parent_vertices_for_next_step.append(find_sink(vertices_to_add))\n",
    "\n",
    "                    else:\n",
    "                        vertex = DataFlowVertex(parent_vertices_for_current_step,\n",
    "                                                name_prefix + name,\n",
    "                                                transformer_component_class_name,\n",
    "                                               '')\n",
    "                        graph.append(vertex)\n",
    "                        parent_vertices_for_next_step.append(vertex)\n",
    "\n",
    "        else:\n",
    "            vertex = DataFlowVertex(parent_vertices_for_current_step,\n",
    "                                    name_prefix + step_name,\n",
    "                                    component_class_name,\n",
    "                                   '')\n",
    "            graph.append(vertex)\n",
    "            parent_vertices_for_next_step.append(vertex)\n",
    "\n",
    "        parent_vertices_for_current_step = parent_vertices_for_next_step.copy()\n",
    "        parent_vertices_for_next_step = []\n",
    "\n",
    "    return graph\n",
    "\n",
    "def sklearn_to_dataflow_graph(pipeline, parent_vertices=[]):\n",
    "    \n",
    "    graph = pipeline_to_dataflow_graph(pipeline, name_prefix='', parent_vertices=parent_vertices)\n",
    "    return graph\n"
   ]
  },
  {
   "cell_type": "markdown",
   "metadata": {},
   "source": [
    "## Visualize"
   ]
  },
  {
   "cell_type": "code",
   "execution_count": 4,
   "metadata": {},
   "outputs": [],
   "source": [
    "from graphviz import Digraph\n",
    "\n",
    "def visualize(nested_graph):\n",
    "    dot = Digraph(comment='preprocessing_pipeline')\n",
    "\n",
    "    for node in nested_graph:\n",
    "        dot.node(node.name,label = node.name+',\\nop='+node.operation)\n",
    "        parents = node.parent_vertices \n",
    "        \n",
    "        for parent in parents:\n",
    "            dot.edge(parent.name, node.name)\n",
    "    \n",
    "    return dot\n"
   ]
  },
  {
   "cell_type": "markdown",
   "metadata": {},
   "source": [
    "# Test"
   ]
  },
  {
   "cell_type": "markdown",
   "metadata": {},
   "source": [
    "### 1) test on pandas df"
   ]
  },
  {
   "cell_type": "code",
   "execution_count": 5,
   "metadata": {},
   "outputs": [
    {
     "name": "stdout",
     "output_type": "stream",
     "text": [
      "     country  capital   inhabitant to_drop\n",
      "0    Germany   Berlin   82500000.0      hi\n",
      "1     France    Paris   66900000.0      hi\n",
      "2  Indonesia  Jakarta  255500000.0      hi\n",
      "   country capital    HDI\n",
      "0  Germany  Berlin  0.926\n",
      "1    Italy    Rome  0.897\n",
      "2    Spain  Madrid  0.844\n",
      "3  Austria  Vienna  0.893\n"
     ]
    }
   ],
   "source": [
    "###test dfs\n",
    "countries = ['Germany', 'France', 'Indonesia']\n",
    "inhabitants = [82.5 * 10**6, 66.9 * 10**6, 255.5 * 10**6]\n",
    "capitals = ['Berlin', 'Paris', 'Jakarta']\n",
    "to_drop = ['hi','hi','hi']\n",
    "\n",
    "df1 = pd.DataFrame({'country': countries,\n",
    "                    'inhabitant': inhabitants,\n",
    "                    'capital': capitals,\n",
    "                   'to_drop': to_drop})\n",
    "df1 = df1[['country', 'capital', 'inhabitant','to_drop']]\n",
    "print(df1)\n",
    "\n",
    "countries = ['Germany', 'Italy', 'Spain', 'Austria']\n",
    "capitals = ['Berlin', 'Rome', 'Madrid', 'Vienna']\n",
    "hdis = [0.926, 0.897, 0.844, 0.893]\n",
    "df2 = pd.DataFrame({'country': countries,\n",
    "                    'capital': capitals,\n",
    "                    'HDI': hdis})\n",
    "df2 = df2[['country', 'capital', 'HDI']]\n",
    "print(df2)\n",
    "\n",
    "df1.to_csv ('data/inhabitants.csv', index = None, header=True)\n",
    "df2.to_csv ('data/country.csv', index = None, header=True)\n"
   ]
  },
  {
   "cell_type": "markdown",
   "metadata": {},
   "source": [
    "#### concat"
   ]
  },
  {
   "cell_type": "code",
   "execution_count": 6,
   "metadata": {},
   "outputs": [
    {
     "name": "stderr",
     "output_type": "stream",
     "text": [
      "/Users/carold/Documents/GRAD/2019Fall/Data-Engineering/deml-project-6/venv/lib/python3.6/site-packages/ipykernel_launcher.py:1: FutureWarning: Sorting because non-concatenation axis is not aligned. A future version\n",
      "of pandas will change to not sort by default.\n",
      "\n",
      "To accept the future behavior, pass 'sort=False'.\n",
      "\n",
      "To retain the current behavior and silence the warning, pass 'sort=True'.\n",
      "\n",
      "  \"\"\"Entry point for launching an IPython kernel.\n"
     ]
    },
    {
     "name": "stdout",
     "output_type": "stream",
     "text": [
      "[(vertex_name=select df.HDI >= 0.9: parent=[(vertex_name=select 'country','HDI': parent=[(vertex_name=drop ['to_drop'],axis=1: parent=[(vertex_name=dropna : parent=[(vertex_name=concat_df: parent=[(vertex_name=inhabitants: parent=[], op=read_csv, params='data/inhabitants.csv'), (vertex_name=country: parent=[], op=read_csv, params='data/country.csv')], op=concat, params=[inhabitants, country])], op=dropna, params=)], op=drop, params=['to_drop'],axis=1)], op=filter, params='country','HDI')], op=filter, params=df.HDI >= 0.9)]\n"
     ]
    },
    {
     "data": {
      "image/svg+xml": [
       "<?xml version=\"1.0\" encoding=\"UTF-8\" standalone=\"no\"?>\n",
       "<!DOCTYPE svg PUBLIC \"-//W3C//DTD SVG 1.1//EN\"\n",
       " \"http://www.w3.org/Graphics/SVG/1.1/DTD/svg11.dtd\">\n",
       "<!-- Generated by graphviz version 2.40.1 (20161225.0304)\n",
       " -->\n",
       "<!-- Title: %3 Pages: 1 -->\n",
       "<svg width=\"224pt\" height=\"510pt\"\n",
       " viewBox=\"0.00 0.00 223.99 510.44\" xmlns=\"http://www.w3.org/2000/svg\" xmlns:xlink=\"http://www.w3.org/1999/xlink\">\n",
       "<g id=\"graph0\" class=\"graph\" transform=\"scale(1 1) rotate(0) translate(4 506.4407)\">\n",
       "<title>%3</title>\n",
       "<polygon fill=\"#ffffff\" stroke=\"transparent\" points=\"-4,4 -4,-506.4407 219.9949,-506.4407 219.9949,4 -4,4\"/>\n",
       "<!-- inhabitants -->\n",
       "<g id=\"node1\" class=\"node\">\n",
       "<title>inhabitants</title>\n",
       "<ellipse fill=\"none\" stroke=\"#000000\" cx=\"49.4975\" cy=\"-475.5706\" rx=\"49.4949\" ry=\"26.7407\"/>\n",
       "<text text-anchor=\"middle\" x=\"49.4975\" y=\"-479.3706\" font-family=\"Times,serif\" font-size=\"14.00\" fill=\"#000000\">inhabitants,</text>\n",
       "<text text-anchor=\"middle\" x=\"49.4975\" y=\"-464.3706\" font-family=\"Times,serif\" font-size=\"14.00\" fill=\"#000000\">op=read_csv</text>\n",
       "</g>\n",
       "<!-- concat_df -->\n",
       "<g id=\"node3\" class=\"node\">\n",
       "<title>concat_df</title>\n",
       "<ellipse fill=\"none\" stroke=\"#000000\" cx=\"107.4975\" cy=\"-385.8305\" rx=\"43.2674\" ry=\"26.7407\"/>\n",
       "<text text-anchor=\"middle\" x=\"107.4975\" y=\"-389.6305\" font-family=\"Times,serif\" font-size=\"14.00\" fill=\"#000000\">concat_df,</text>\n",
       "<text text-anchor=\"middle\" x=\"107.4975\" y=\"-374.6305\" font-family=\"Times,serif\" font-size=\"14.00\" fill=\"#000000\">op=concat</text>\n",
       "</g>\n",
       "<!-- inhabitants&#45;&gt;concat_df -->\n",
       "<g id=\"edge1\" class=\"edge\">\n",
       "<title>inhabitants&#45;&gt;concat_df</title>\n",
       "<path fill=\"none\" stroke=\"#000000\" d=\"M65.9628,-450.0948C72.0759,-440.6363 79.1093,-429.754 85.6297,-419.6653\"/>\n",
       "<polygon fill=\"#000000\" stroke=\"#000000\" points=\"88.7031,-421.3579 91.1917,-411.0595 82.8241,-417.5582 88.7031,-421.3579\"/>\n",
       "</g>\n",
       "<!-- country -->\n",
       "<g id=\"node2\" class=\"node\">\n",
       "<title>country</title>\n",
       "<ellipse fill=\"none\" stroke=\"#000000\" cx=\"166.4975\" cy=\"-475.5706\" rx=\"49.4949\" ry=\"26.7407\"/>\n",
       "<text text-anchor=\"middle\" x=\"166.4975\" y=\"-479.3706\" font-family=\"Times,serif\" font-size=\"14.00\" fill=\"#000000\">country,</text>\n",
       "<text text-anchor=\"middle\" x=\"166.4975\" y=\"-464.3706\" font-family=\"Times,serif\" font-size=\"14.00\" fill=\"#000000\">op=read_csv</text>\n",
       "</g>\n",
       "<!-- country&#45;&gt;concat_df -->\n",
       "<g id=\"edge2\" class=\"edge\">\n",
       "<title>country&#45;&gt;concat_df</title>\n",
       "<path fill=\"none\" stroke=\"#000000\" d=\"M149.7483,-450.0948C143.477,-440.5561 136.2538,-429.5695 129.5738,-419.409\"/>\n",
       "<polygon fill=\"#000000\" stroke=\"#000000\" points=\"132.299,-417.183 123.8808,-410.7499 126.4499,-421.0286 132.299,-417.183\"/>\n",
       "</g>\n",
       "<!-- dropna  -->\n",
       "<g id=\"node4\" class=\"node\">\n",
       "<title>dropna </title>\n",
       "<ellipse fill=\"none\" stroke=\"#000000\" cx=\"107.4975\" cy=\"-296.0904\" rx=\"43.6818\" ry=\"26.7407\"/>\n",
       "<text text-anchor=\"middle\" x=\"107.4975\" y=\"-299.8904\" font-family=\"Times,serif\" font-size=\"14.00\" fill=\"#000000\">dropna ,</text>\n",
       "<text text-anchor=\"middle\" x=\"107.4975\" y=\"-284.8904\" font-family=\"Times,serif\" font-size=\"14.00\" fill=\"#000000\">op=dropna</text>\n",
       "</g>\n",
       "<!-- concat_df&#45;&gt;dropna  -->\n",
       "<g id=\"edge3\" class=\"edge\">\n",
       "<title>concat_df&#45;&gt;dropna </title>\n",
       "<path fill=\"none\" stroke=\"#000000\" d=\"M107.4975,-358.9055C107.4975,-350.8306 107.4975,-341.8273 107.4975,-333.2164\"/>\n",
       "<polygon fill=\"#000000\" stroke=\"#000000\" points=\"110.9976,-332.9964 107.4975,-322.9964 103.9976,-332.9964 110.9976,-332.9964\"/>\n",
       "</g>\n",
       "<!-- drop [&#39;to_drop&#39;],axis=1 -->\n",
       "<g id=\"node5\" class=\"node\">\n",
       "<title>drop [&#39;to_drop&#39;],axis=1</title>\n",
       "<ellipse fill=\"none\" stroke=\"#000000\" cx=\"107.4975\" cy=\"-206.3503\" rx=\"81.135\" ry=\"26.7407\"/>\n",
       "<text text-anchor=\"middle\" x=\"107.4975\" y=\"-210.1503\" font-family=\"Times,serif\" font-size=\"14.00\" fill=\"#000000\">drop [&#39;to_drop&#39;],axis=1,</text>\n",
       "<text text-anchor=\"middle\" x=\"107.4975\" y=\"-195.1503\" font-family=\"Times,serif\" font-size=\"14.00\" fill=\"#000000\">op=drop</text>\n",
       "</g>\n",
       "<!-- dropna &#45;&gt;drop [&#39;to_drop&#39;],axis=1 -->\n",
       "<g id=\"edge4\" class=\"edge\">\n",
       "<title>dropna &#45;&gt;drop [&#39;to_drop&#39;],axis=1</title>\n",
       "<path fill=\"none\" stroke=\"#000000\" d=\"M107.4975,-269.1654C107.4975,-261.0905 107.4975,-252.0872 107.4975,-243.4763\"/>\n",
       "<polygon fill=\"#000000\" stroke=\"#000000\" points=\"110.9976,-243.2562 107.4975,-233.2563 103.9976,-243.2563 110.9976,-243.2562\"/>\n",
       "</g>\n",
       "<!-- select &#39;country&#39;,&#39;HDI&#39; -->\n",
       "<g id=\"node6\" class=\"node\">\n",
       "<title>select &#39;country&#39;,&#39;HDI&#39;</title>\n",
       "<ellipse fill=\"none\" stroke=\"#000000\" cx=\"107.4975\" cy=\"-116.6102\" rx=\"75.8212\" ry=\"26.7407\"/>\n",
       "<text text-anchor=\"middle\" x=\"107.4975\" y=\"-120.4102\" font-family=\"Times,serif\" font-size=\"14.00\" fill=\"#000000\">select &#39;country&#39;,&#39;HDI&#39;,</text>\n",
       "<text text-anchor=\"middle\" x=\"107.4975\" y=\"-105.4102\" font-family=\"Times,serif\" font-size=\"14.00\" fill=\"#000000\">op=filter</text>\n",
       "</g>\n",
       "<!-- drop [&#39;to_drop&#39;],axis=1&#45;&gt;select &#39;country&#39;,&#39;HDI&#39; -->\n",
       "<g id=\"edge5\" class=\"edge\">\n",
       "<title>drop [&#39;to_drop&#39;],axis=1&#45;&gt;select &#39;country&#39;,&#39;HDI&#39;</title>\n",
       "<path fill=\"none\" stroke=\"#000000\" d=\"M107.4975,-179.4253C107.4975,-171.3504 107.4975,-162.3471 107.4975,-153.7362\"/>\n",
       "<polygon fill=\"#000000\" stroke=\"#000000\" points=\"110.9976,-153.5161 107.4975,-143.5162 103.9976,-153.5162 110.9976,-153.5161\"/>\n",
       "</g>\n",
       "<!-- select df.HDI &gt;= 0.9 -->\n",
       "<g id=\"node7\" class=\"node\">\n",
       "<title>select df.HDI &gt;= 0.9</title>\n",
       "<ellipse fill=\"none\" stroke=\"#000000\" cx=\"107.4975\" cy=\"-26.8701\" rx=\"74.9067\" ry=\"26.7407\"/>\n",
       "<text text-anchor=\"middle\" x=\"107.4975\" y=\"-30.6701\" font-family=\"Times,serif\" font-size=\"14.00\" fill=\"#000000\">select df.HDI &gt;= 0.9,</text>\n",
       "<text text-anchor=\"middle\" x=\"107.4975\" y=\"-15.6701\" font-family=\"Times,serif\" font-size=\"14.00\" fill=\"#000000\">op=filter</text>\n",
       "</g>\n",
       "<!-- select &#39;country&#39;,&#39;HDI&#39;&#45;&gt;select df.HDI &gt;= 0.9 -->\n",
       "<g id=\"edge6\" class=\"edge\">\n",
       "<title>select &#39;country&#39;,&#39;HDI&#39;&#45;&gt;select df.HDI &gt;= 0.9</title>\n",
       "<path fill=\"none\" stroke=\"#000000\" d=\"M107.4975,-89.6852C107.4975,-81.6102 107.4975,-72.607 107.4975,-63.9961\"/>\n",
       "<polygon fill=\"#000000\" stroke=\"#000000\" points=\"110.9976,-63.776 107.4975,-53.776 103.9976,-63.7761 110.9976,-63.776\"/>\n",
       "</g>\n",
       "</g>\n",
       "</svg>\n"
      ],
      "text/plain": [
       "<graphviz.dot.Digraph at 0x7fbd102a2b00>"
      ]
     },
     "execution_count": 6,
     "metadata": {},
     "output_type": "execute_result"
    }
   ],
   "source": [
    "def test_pd_1():\n",
    "    inhabitants = pd.read_csv('data/inhabitants.csv')\n",
    "    country = pd.read_csv('data/country.csv')\n",
    "    concat_df = pd.concat([inhabitants, country])\n",
    "    df = concat_df.dropna()\n",
    "    df = df.drop(['to_drop'],axis=1)\n",
    "    df = df[['country','HDI']]\n",
    "    df = df[df.HDI >= 0.9]\n",
    "    return df\n",
    "\n",
    "graph, parent_vertics = pd_to_dataflow_graph(test_pd_1)\n",
    "print(parent_vertics)\n",
    "visualize(graph)"
   ]
  },
  {
   "cell_type": "markdown",
   "metadata": {},
   "source": [
    "#### merge"
   ]
  },
  {
   "cell_type": "code",
   "execution_count": 7,
   "metadata": {},
   "outputs": [
    {
     "data": {
      "image/svg+xml": [
       "<?xml version=\"1.0\" encoding=\"UTF-8\" standalone=\"no\"?>\n",
       "<!DOCTYPE svg PUBLIC \"-//W3C//DTD SVG 1.1//EN\"\n",
       " \"http://www.w3.org/Graphics/SVG/1.1/DTD/svg11.dtd\">\n",
       "<!-- Generated by graphviz version 2.40.1 (20161225.0304)\n",
       " -->\n",
       "<!-- Title: %3 Pages: 1 -->\n",
       "<svg width=\"224pt\" height=\"510pt\"\n",
       " viewBox=\"0.00 0.00 223.99 510.44\" xmlns=\"http://www.w3.org/2000/svg\" xmlns:xlink=\"http://www.w3.org/1999/xlink\">\n",
       "<g id=\"graph0\" class=\"graph\" transform=\"scale(1 1) rotate(0) translate(4 506.4407)\">\n",
       "<title>%3</title>\n",
       "<polygon fill=\"#ffffff\" stroke=\"transparent\" points=\"-4,4 -4,-506.4407 219.9949,-506.4407 219.9949,4 -4,4\"/>\n",
       "<!-- inhabitants -->\n",
       "<g id=\"node1\" class=\"node\">\n",
       "<title>inhabitants</title>\n",
       "<ellipse fill=\"none\" stroke=\"#000000\" cx=\"49.4975\" cy=\"-475.5706\" rx=\"49.4949\" ry=\"26.7407\"/>\n",
       "<text text-anchor=\"middle\" x=\"49.4975\" y=\"-479.3706\" font-family=\"Times,serif\" font-size=\"14.00\" fill=\"#000000\">inhabitants,</text>\n",
       "<text text-anchor=\"middle\" x=\"49.4975\" y=\"-464.3706\" font-family=\"Times,serif\" font-size=\"14.00\" fill=\"#000000\">op=read_csv</text>\n",
       "</g>\n",
       "<!-- merge_df -->\n",
       "<g id=\"node3\" class=\"node\">\n",
       "<title>merge_df</title>\n",
       "<ellipse fill=\"none\" stroke=\"#000000\" cx=\"107.4975\" cy=\"-385.8305\" rx=\"41.9398\" ry=\"26.7407\"/>\n",
       "<text text-anchor=\"middle\" x=\"107.4975\" y=\"-389.6305\" font-family=\"Times,serif\" font-size=\"14.00\" fill=\"#000000\">merge_df,</text>\n",
       "<text text-anchor=\"middle\" x=\"107.4975\" y=\"-374.6305\" font-family=\"Times,serif\" font-size=\"14.00\" fill=\"#000000\">op=merge</text>\n",
       "</g>\n",
       "<!-- inhabitants&#45;&gt;merge_df -->\n",
       "<g id=\"edge1\" class=\"edge\">\n",
       "<title>inhabitants&#45;&gt;merge_df</title>\n",
       "<path fill=\"none\" stroke=\"#000000\" d=\"M65.9628,-450.0948C72.1277,-440.5561 79.2285,-429.5695 85.7954,-419.409\"/>\n",
       "<polygon fill=\"#000000\" stroke=\"#000000\" points=\"88.9032,-421.0483 91.3918,-410.7499 83.0242,-417.2487 88.9032,-421.0483\"/>\n",
       "</g>\n",
       "<!-- country -->\n",
       "<g id=\"node2\" class=\"node\">\n",
       "<title>country</title>\n",
       "<ellipse fill=\"none\" stroke=\"#000000\" cx=\"166.4975\" cy=\"-475.5706\" rx=\"49.4949\" ry=\"26.7407\"/>\n",
       "<text text-anchor=\"middle\" x=\"166.4975\" y=\"-479.3706\" font-family=\"Times,serif\" font-size=\"14.00\" fill=\"#000000\">country,</text>\n",
       "<text text-anchor=\"middle\" x=\"166.4975\" y=\"-464.3706\" font-family=\"Times,serif\" font-size=\"14.00\" fill=\"#000000\">op=read_csv</text>\n",
       "</g>\n",
       "<!-- country&#45;&gt;merge_df -->\n",
       "<g id=\"edge2\" class=\"edge\">\n",
       "<title>country&#45;&gt;merge_df</title>\n",
       "<path fill=\"none\" stroke=\"#000000\" d=\"M149.7483,-450.0948C143.477,-440.5561 136.2538,-429.5695 129.5738,-419.409\"/>\n",
       "<polygon fill=\"#000000\" stroke=\"#000000\" points=\"132.299,-417.183 123.8808,-410.7499 126.4499,-421.0286 132.299,-417.183\"/>\n",
       "</g>\n",
       "<!-- dropna  -->\n",
       "<g id=\"node4\" class=\"node\">\n",
       "<title>dropna </title>\n",
       "<ellipse fill=\"none\" stroke=\"#000000\" cx=\"107.4975\" cy=\"-296.0904\" rx=\"43.6818\" ry=\"26.7407\"/>\n",
       "<text text-anchor=\"middle\" x=\"107.4975\" y=\"-299.8904\" font-family=\"Times,serif\" font-size=\"14.00\" fill=\"#000000\">dropna ,</text>\n",
       "<text text-anchor=\"middle\" x=\"107.4975\" y=\"-284.8904\" font-family=\"Times,serif\" font-size=\"14.00\" fill=\"#000000\">op=dropna</text>\n",
       "</g>\n",
       "<!-- merge_df&#45;&gt;dropna  -->\n",
       "<g id=\"edge3\" class=\"edge\">\n",
       "<title>merge_df&#45;&gt;dropna </title>\n",
       "<path fill=\"none\" stroke=\"#000000\" d=\"M107.4975,-358.9055C107.4975,-350.8306 107.4975,-341.8273 107.4975,-333.2164\"/>\n",
       "<polygon fill=\"#000000\" stroke=\"#000000\" points=\"110.9976,-332.9964 107.4975,-322.9964 103.9976,-332.9964 110.9976,-332.9964\"/>\n",
       "</g>\n",
       "<!-- drop [&#39;to_drop&#39;],axis=1 -->\n",
       "<g id=\"node5\" class=\"node\">\n",
       "<title>drop [&#39;to_drop&#39;],axis=1</title>\n",
       "<ellipse fill=\"none\" stroke=\"#000000\" cx=\"107.4975\" cy=\"-206.3503\" rx=\"81.135\" ry=\"26.7407\"/>\n",
       "<text text-anchor=\"middle\" x=\"107.4975\" y=\"-210.1503\" font-family=\"Times,serif\" font-size=\"14.00\" fill=\"#000000\">drop [&#39;to_drop&#39;],axis=1,</text>\n",
       "<text text-anchor=\"middle\" x=\"107.4975\" y=\"-195.1503\" font-family=\"Times,serif\" font-size=\"14.00\" fill=\"#000000\">op=drop</text>\n",
       "</g>\n",
       "<!-- dropna &#45;&gt;drop [&#39;to_drop&#39;],axis=1 -->\n",
       "<g id=\"edge4\" class=\"edge\">\n",
       "<title>dropna &#45;&gt;drop [&#39;to_drop&#39;],axis=1</title>\n",
       "<path fill=\"none\" stroke=\"#000000\" d=\"M107.4975,-269.1654C107.4975,-261.0905 107.4975,-252.0872 107.4975,-243.4763\"/>\n",
       "<polygon fill=\"#000000\" stroke=\"#000000\" points=\"110.9976,-243.2562 107.4975,-233.2563 103.9976,-243.2563 110.9976,-243.2562\"/>\n",
       "</g>\n",
       "<!-- select &#39;country&#39;,&#39;HDI&#39; -->\n",
       "<g id=\"node6\" class=\"node\">\n",
       "<title>select &#39;country&#39;,&#39;HDI&#39;</title>\n",
       "<ellipse fill=\"none\" stroke=\"#000000\" cx=\"107.4975\" cy=\"-116.6102\" rx=\"75.8212\" ry=\"26.7407\"/>\n",
       "<text text-anchor=\"middle\" x=\"107.4975\" y=\"-120.4102\" font-family=\"Times,serif\" font-size=\"14.00\" fill=\"#000000\">select &#39;country&#39;,&#39;HDI&#39;,</text>\n",
       "<text text-anchor=\"middle\" x=\"107.4975\" y=\"-105.4102\" font-family=\"Times,serif\" font-size=\"14.00\" fill=\"#000000\">op=filter</text>\n",
       "</g>\n",
       "<!-- drop [&#39;to_drop&#39;],axis=1&#45;&gt;select &#39;country&#39;,&#39;HDI&#39; -->\n",
       "<g id=\"edge5\" class=\"edge\">\n",
       "<title>drop [&#39;to_drop&#39;],axis=1&#45;&gt;select &#39;country&#39;,&#39;HDI&#39;</title>\n",
       "<path fill=\"none\" stroke=\"#000000\" d=\"M107.4975,-179.4253C107.4975,-171.3504 107.4975,-162.3471 107.4975,-153.7362\"/>\n",
       "<polygon fill=\"#000000\" stroke=\"#000000\" points=\"110.9976,-153.5161 107.4975,-143.5162 103.9976,-153.5162 110.9976,-153.5161\"/>\n",
       "</g>\n",
       "<!-- select df.HDI &gt;= 0.9 -->\n",
       "<g id=\"node7\" class=\"node\">\n",
       "<title>select df.HDI &gt;= 0.9</title>\n",
       "<ellipse fill=\"none\" stroke=\"#000000\" cx=\"107.4975\" cy=\"-26.8701\" rx=\"74.9067\" ry=\"26.7407\"/>\n",
       "<text text-anchor=\"middle\" x=\"107.4975\" y=\"-30.6701\" font-family=\"Times,serif\" font-size=\"14.00\" fill=\"#000000\">select df.HDI &gt;= 0.9,</text>\n",
       "<text text-anchor=\"middle\" x=\"107.4975\" y=\"-15.6701\" font-family=\"Times,serif\" font-size=\"14.00\" fill=\"#000000\">op=filter</text>\n",
       "</g>\n",
       "<!-- select &#39;country&#39;,&#39;HDI&#39;&#45;&gt;select df.HDI &gt;= 0.9 -->\n",
       "<g id=\"edge6\" class=\"edge\">\n",
       "<title>select &#39;country&#39;,&#39;HDI&#39;&#45;&gt;select df.HDI &gt;= 0.9</title>\n",
       "<path fill=\"none\" stroke=\"#000000\" d=\"M107.4975,-89.6852C107.4975,-81.6102 107.4975,-72.607 107.4975,-63.9961\"/>\n",
       "<polygon fill=\"#000000\" stroke=\"#000000\" points=\"110.9976,-63.776 107.4975,-53.776 103.9976,-63.7761 110.9976,-63.776\"/>\n",
       "</g>\n",
       "</g>\n",
       "</svg>\n"
      ],
      "text/plain": [
       "<graphviz.dot.Digraph at 0x7fbd102a24e0>"
      ]
     },
     "execution_count": 7,
     "metadata": {},
     "output_type": "execute_result"
    }
   ],
   "source": [
    "def test_pd_2():\n",
    "    inhabitants = pd.read_csv('data/inhabitants.csv')\n",
    "    country = pd.read_csv('data/country.csv')\n",
    "    merge_df = inhabitants.merge(country, on='country', how='inner')\n",
    "    df = merge_df.dropna()\n",
    "    df = df.drop(['to_drop'],axis=1)\n",
    "    df = df[['country','HDI']]\n",
    "    df = df[df.HDI >= 0.9]\n",
    "    return df\n",
    "\n",
    "graph, parent_vertics = pd_to_dataflow_graph(test_pd_2)\n",
    "visualize(graph)"
   ]
  },
  {
   "cell_type": "markdown",
   "metadata": {},
   "source": [
    "#### sklearn + pandas"
   ]
  },
  {
   "cell_type": "code",
   "execution_count": 8,
   "metadata": {},
   "outputs": [],
   "source": [
    "import pandas as pd \n",
    "import sklearn\n",
    "from sklearn.pipeline import Pipeline\n",
    "from sklearn.tree import DecisionTreeClassifier\n",
    "from sklearn.preprocessing import OneHotEncoder, StandardScaler, label_binarize\n",
    "from sklearn.compose import ColumnTransformer\n",
    "\n",
    "def pipeline_test_hwk3_3(f_path = 'data/adult-sample.csv', a = 0):\n",
    "   \n",
    "    raw_data = pd.read_csv(f_path, na_values='?')   \n",
    "    data = raw_data.dropna()     \n",
    "\n",
    "    labels = label_binarize(data['income-per-year'], ['>50K', '<=50K'])\n",
    "\n",
    "    feature_transformation = sklearn.compose.ColumnTransformer(transformers=[\n",
    "        ('categorical', OneHotEncoder(handle_unknown='ignore'), ['education', 'workclass']),\n",
    "        ('numeric', StandardScaler(), ['age', 'hours-per-week'])\n",
    "    ])\n",
    "\n",
    "        \n",
    "    income_pipeline = Pipeline([\n",
    "      ('features', feature_transformation),\n",
    "      ('classifier', DecisionTreeClassifier())])\n",
    "    \n",
    "    return income_pipeline\n",
    "\n",
    "def pipeline_test_hwk3_4(f_path = 'data/adult-sample.csv', a = 0):\n",
    "    raw_data = pd.read_csv(f_path, na_values='?')    #\n",
    "    data = raw_data.dropna()     #\n",
    "\n",
    "    labels = label_binarize(data['income-per-year'], ['>50K', '<=50K'])\n",
    "\n",
    "    nested_categorical_feature_transformation = Pipeline(steps=[\n",
    "        ('impute', SimpleImputer(missing_values=np.nan, strategy='most_frequent')),\n",
    "        ('encode', OneHotEncoder(handle_unknown='ignore'))\n",
    "    ])\n",
    "\n",
    "    nested_feature_transformation = ColumnTransformer(transformers=[\n",
    "        ('categorical', nested_categorical_feature_transformation, ['education', 'workclass']),\n",
    "        ('numeric', StandardScaler(), ['age', 'hours-per-week'])\n",
    "    ])\n",
    "\n",
    "    nested_pipeline = Pipeline([\n",
    "      ('features', nested_feature_transformation),\n",
    "      ('classifier', DecisionTreeClassifier())])\n",
    "\n",
    "    return nested_pipeline\n"
   ]
  },
  {
   "cell_type": "code",
   "execution_count": 9,
   "metadata": {},
   "outputs": [
    {
     "name": "stdout",
     "output_type": "stream",
     "text": [
      "parent_vertices [(vertex_name=dropna : parent=[(vertex_name=raw_data: parent=[], op=read_csv, params=f_path, na_values='?')], op=dropna, params=)]\n",
      "==========\n"
     ]
    }
   ],
   "source": [
    "pd_graph, parent_vertices = pd_to_dataflow_graph(pipeline_test_hwk3_3)\n",
    "\n",
    "print('parent_vertices', parent_vertices)\n",
    "print('==========')\n",
    "sklearn_pipeline = pipeline_test_hwk3_3()\n",
    "sklearn_graph = sklearn_to_dataflow_graph(sklearn_pipeline,parent_vertices)\n"
   ]
  },
  {
   "cell_type": "code",
   "execution_count": 10,
   "metadata": {},
   "outputs": [
    {
     "data": {
      "text/plain": [
       "[(vertex_name=raw_data: parent=[], op=read_csv, params=f_path, na_values='?'),\n",
       " (vertex_name=dropna : parent=[(vertex_name=raw_data: parent=[], op=read_csv, params=f_path, na_values='?')], op=dropna, params=),\n",
       " (vertex_name=features__categorical__education: parent=[(vertex_name=dropna : parent=[(vertex_name=raw_data: parent=[], op=read_csv, params=f_path, na_values='?')], op=dropna, params=)], op=OneHotEncoder, params=),\n",
       " (vertex_name=features__categorical__workclass: parent=[(vertex_name=dropna : parent=[(vertex_name=raw_data: parent=[], op=read_csv, params=f_path, na_values='?')], op=dropna, params=)], op=OneHotEncoder, params=),\n",
       " (vertex_name=features__numeric__age: parent=[(vertex_name=dropna : parent=[(vertex_name=raw_data: parent=[], op=read_csv, params=f_path, na_values='?')], op=dropna, params=)], op=StandardScaler, params=),\n",
       " (vertex_name=features__numeric__hours-per-week: parent=[(vertex_name=dropna : parent=[(vertex_name=raw_data: parent=[], op=read_csv, params=f_path, na_values='?')], op=dropna, params=)], op=StandardScaler, params=),\n",
       " (vertex_name=classifier: parent=[(vertex_name=features__categorical__education: parent=[(vertex_name=dropna : parent=[(vertex_name=raw_data: parent=[], op=read_csv, params=f_path, na_values='?')], op=dropna, params=)], op=OneHotEncoder, params=), (vertex_name=features__categorical__workclass: parent=[(vertex_name=dropna : parent=[(vertex_name=raw_data: parent=[], op=read_csv, params=f_path, na_values='?')], op=dropna, params=)], op=OneHotEncoder, params=), (vertex_name=features__numeric__age: parent=[(vertex_name=dropna : parent=[(vertex_name=raw_data: parent=[], op=read_csv, params=f_path, na_values='?')], op=dropna, params=)], op=StandardScaler, params=), (vertex_name=features__numeric__hours-per-week: parent=[(vertex_name=dropna : parent=[(vertex_name=raw_data: parent=[], op=read_csv, params=f_path, na_values='?')], op=dropna, params=)], op=StandardScaler, params=)], op=DecisionTreeClassifier, params=)]"
      ]
     },
     "execution_count": 10,
     "metadata": {},
     "output_type": "execute_result"
    }
   ],
   "source": [
    "pd_graph.extend(sklearn_graph)\n",
    "pd_graph"
   ]
  },
  {
   "cell_type": "code",
   "execution_count": 11,
   "metadata": {},
   "outputs": [
    {
     "data": {
      "text/plain": [
       "7"
      ]
     },
     "execution_count": 11,
     "metadata": {},
     "output_type": "execute_result"
    }
   ],
   "source": [
    "len(pd_graph)"
   ]
  },
  {
   "cell_type": "code",
   "execution_count": 12,
   "metadata": {},
   "outputs": [
    {
     "data": {
      "image/svg+xml": [
       "<?xml version=\"1.0\" encoding=\"UTF-8\" standalone=\"no\"?>\n",
       "<!DOCTYPE svg PUBLIC \"-//W3C//DTD SVG 1.1//EN\"\n",
       " \"http://www.w3.org/Graphics/SVG/1.1/DTD/svg11.dtd\">\n",
       "<!-- Generated by graphviz version 2.40.1 (20161225.0304)\n",
       " -->\n",
       "<!-- Title: %3 Pages: 1 -->\n",
       "<svg width=\"934pt\" height=\"331pt\"\n",
       " viewBox=\"0.00 0.00 934.17 330.96\" xmlns=\"http://www.w3.org/2000/svg\" xmlns:xlink=\"http://www.w3.org/1999/xlink\">\n",
       "<g id=\"graph0\" class=\"graph\" transform=\"scale(1 1) rotate(0) translate(4 326.9605)\">\n",
       "<title>%3</title>\n",
       "<polygon fill=\"#ffffff\" stroke=\"transparent\" points=\"-4,4 -4,-326.9605 930.1737,-326.9605 930.1737,4 -4,4\"/>\n",
       "<!-- raw_data -->\n",
       "<g id=\"node1\" class=\"node\">\n",
       "<title>raw_data</title>\n",
       "<ellipse fill=\"none\" stroke=\"#000000\" cx=\"467.1371\" cy=\"-296.0904\" rx=\"49.4949\" ry=\"26.7407\"/>\n",
       "<text text-anchor=\"middle\" x=\"467.1371\" y=\"-299.8904\" font-family=\"Times,serif\" font-size=\"14.00\" fill=\"#000000\">raw_data,</text>\n",
       "<text text-anchor=\"middle\" x=\"467.1371\" y=\"-284.8904\" font-family=\"Times,serif\" font-size=\"14.00\" fill=\"#000000\">op=read_csv</text>\n",
       "</g>\n",
       "<!-- dropna  -->\n",
       "<g id=\"node2\" class=\"node\">\n",
       "<title>dropna </title>\n",
       "<ellipse fill=\"none\" stroke=\"#000000\" cx=\"467.1371\" cy=\"-206.3503\" rx=\"43.6818\" ry=\"26.7407\"/>\n",
       "<text text-anchor=\"middle\" x=\"467.1371\" y=\"-210.1503\" font-family=\"Times,serif\" font-size=\"14.00\" fill=\"#000000\">dropna ,</text>\n",
       "<text text-anchor=\"middle\" x=\"467.1371\" y=\"-195.1503\" font-family=\"Times,serif\" font-size=\"14.00\" fill=\"#000000\">op=dropna</text>\n",
       "</g>\n",
       "<!-- raw_data&#45;&gt;dropna  -->\n",
       "<g id=\"edge1\" class=\"edge\">\n",
       "<title>raw_data&#45;&gt;dropna </title>\n",
       "<path fill=\"none\" stroke=\"#000000\" d=\"M467.1371,-269.1654C467.1371,-261.0905 467.1371,-252.0872 467.1371,-243.4763\"/>\n",
       "<polygon fill=\"#000000\" stroke=\"#000000\" points=\"470.6372,-243.2562 467.1371,-233.2563 463.6372,-243.2563 470.6372,-243.2562\"/>\n",
       "</g>\n",
       "<!-- features__categorical__education -->\n",
       "<g id=\"node3\" class=\"node\">\n",
       "<title>features__categorical__education</title>\n",
       "<ellipse fill=\"none\" stroke=\"#000000\" cx=\"113.1371\" cy=\"-116.6102\" rx=\"113.2743\" ry=\"26.7407\"/>\n",
       "<text text-anchor=\"middle\" x=\"113.1371\" y=\"-120.4102\" font-family=\"Times,serif\" font-size=\"14.00\" fill=\"#000000\">features__categorical__education,</text>\n",
       "<text text-anchor=\"middle\" x=\"113.1371\" y=\"-105.4102\" font-family=\"Times,serif\" font-size=\"14.00\" fill=\"#000000\">op=OneHotEncoder</text>\n",
       "</g>\n",
       "<!-- dropna &#45;&gt;features__categorical__education -->\n",
       "<g id=\"edge2\" class=\"edge\">\n",
       "<title>dropna &#45;&gt;features__categorical__education</title>\n",
       "<path fill=\"none\" stroke=\"#000000\" d=\"M426.5288,-196.056C371.718,-182.1613 272.6321,-157.0427 200.513,-138.7602\"/>\n",
       "<polygon fill=\"#000000\" stroke=\"#000000\" points=\"201.0765,-135.2925 190.5231,-136.2278 199.3564,-142.0778 201.0765,-135.2925\"/>\n",
       "</g>\n",
       "<!-- features__categorical__workclass -->\n",
       "<g id=\"node4\" class=\"node\">\n",
       "<title>features__categorical__workclass</title>\n",
       "<ellipse fill=\"none\" stroke=\"#000000\" cx=\"358.1371\" cy=\"-116.6102\" rx=\"113.6886\" ry=\"26.7407\"/>\n",
       "<text text-anchor=\"middle\" x=\"358.1371\" y=\"-120.4102\" font-family=\"Times,serif\" font-size=\"14.00\" fill=\"#000000\">features__categorical__workclass,</text>\n",
       "<text text-anchor=\"middle\" x=\"358.1371\" y=\"-105.4102\" font-family=\"Times,serif\" font-size=\"14.00\" fill=\"#000000\">op=OneHotEncoder</text>\n",
       "</g>\n",
       "<!-- dropna &#45;&gt;features__categorical__workclass -->\n",
       "<g id=\"edge3\" class=\"edge\">\n",
       "<title>dropna &#45;&gt;features__categorical__workclass</title>\n",
       "<path fill=\"none\" stroke=\"#000000\" d=\"M440.7512,-184.6267C427.78,-173.9474 411.8828,-160.8592 397.51,-149.026\"/>\n",
       "<polygon fill=\"#000000\" stroke=\"#000000\" points=\"399.6549,-146.2584 389.7101,-142.6044 395.2057,-151.6625 399.6549,-146.2584\"/>\n",
       "</g>\n",
       "<!-- features__numeric__age -->\n",
       "<g id=\"node5\" class=\"node\">\n",
       "<title>features__numeric__age</title>\n",
       "<ellipse fill=\"none\" stroke=\"#000000\" cx=\"576.1371\" cy=\"-116.6102\" rx=\"86.0347\" ry=\"26.7407\"/>\n",
       "<text text-anchor=\"middle\" x=\"576.1371\" y=\"-120.4102\" font-family=\"Times,serif\" font-size=\"14.00\" fill=\"#000000\">features__numeric__age,</text>\n",
       "<text text-anchor=\"middle\" x=\"576.1371\" y=\"-105.4102\" font-family=\"Times,serif\" font-size=\"14.00\" fill=\"#000000\">op=StandardScaler</text>\n",
       "</g>\n",
       "<!-- dropna &#45;&gt;features__numeric__age -->\n",
       "<g id=\"edge4\" class=\"edge\">\n",
       "<title>dropna &#45;&gt;features__numeric__age</title>\n",
       "<path fill=\"none\" stroke=\"#000000\" d=\"M493.5229,-184.6267C506.7069,-173.7723 522.9134,-160.4294 537.4698,-148.4451\"/>\n",
       "<polygon fill=\"#000000\" stroke=\"#000000\" points=\"539.8617,-151.0094 545.3573,-141.9513 535.4125,-145.6053 539.8617,-151.0094\"/>\n",
       "</g>\n",
       "<!-- features__numeric__hours&#45;per&#45;week -->\n",
       "<g id=\"node6\" class=\"node\">\n",
       "<title>features__numeric__hours&#45;per&#45;week</title>\n",
       "<ellipse fill=\"none\" stroke=\"#000000\" cx=\"803.1371\" cy=\"-116.6102\" rx=\"123.0732\" ry=\"26.7407\"/>\n",
       "<text text-anchor=\"middle\" x=\"803.1371\" y=\"-120.4102\" font-family=\"Times,serif\" font-size=\"14.00\" fill=\"#000000\">features__numeric__hours&#45;per&#45;week,</text>\n",
       "<text text-anchor=\"middle\" x=\"803.1371\" y=\"-105.4102\" font-family=\"Times,serif\" font-size=\"14.00\" fill=\"#000000\">op=StandardScaler</text>\n",
       "</g>\n",
       "<!-- dropna &#45;&gt;features__numeric__hours&#45;per&#45;week -->\n",
       "<g id=\"edge5\" class=\"edge\">\n",
       "<title>dropna &#45;&gt;features__numeric__hours&#45;per&#45;week</title>\n",
       "<path fill=\"none\" stroke=\"#000000\" d=\"M507.3328,-195.6147C558.4684,-181.9572 648.21,-157.9887 715.4763,-140.0229\"/>\n",
       "<polygon fill=\"#000000\" stroke=\"#000000\" points=\"716.4723,-143.3797 725.2305,-137.4177 714.666,-136.6167 716.4723,-143.3797\"/>\n",
       "</g>\n",
       "<!-- classifier -->\n",
       "<g id=\"node7\" class=\"node\">\n",
       "<title>classifier</title>\n",
       "<ellipse fill=\"none\" stroke=\"#000000\" cx=\"467.1371\" cy=\"-26.8701\" rx=\"91.4341\" ry=\"26.7407\"/>\n",
       "<text text-anchor=\"middle\" x=\"467.1371\" y=\"-30.6701\" font-family=\"Times,serif\" font-size=\"14.00\" fill=\"#000000\">classifier,</text>\n",
       "<text text-anchor=\"middle\" x=\"467.1371\" y=\"-15.6701\" font-family=\"Times,serif\" font-size=\"14.00\" fill=\"#000000\">op=DecisionTreeClassifier</text>\n",
       "</g>\n",
       "<!-- features__categorical__education&#45;&gt;classifier -->\n",
       "<g id=\"edge6\" class=\"edge\">\n",
       "<title>features__categorical__education&#45;&gt;classifier</title>\n",
       "<path fill=\"none\" stroke=\"#000000\" d=\"M190.8239,-96.9163C249.2162,-82.1137 328.9296,-61.9061 387.7342,-46.999\"/>\n",
       "<polygon fill=\"#000000\" stroke=\"#000000\" points=\"388.8885,-50.3171 397.7218,-44.4671 387.1683,-43.5317 388.8885,-50.3171\"/>\n",
       "</g>\n",
       "<!-- features__categorical__workclass&#45;&gt;classifier -->\n",
       "<g id=\"edge7\" class=\"edge\">\n",
       "<title>features__categorical__workclass&#45;&gt;classifier</title>\n",
       "<path fill=\"none\" stroke=\"#000000\" d=\"M389.6644,-90.6536C401.6302,-80.8021 415.4045,-69.4617 427.9896,-59.1004\"/>\n",
       "<polygon fill=\"#000000\" stroke=\"#000000\" points=\"430.5615,-61.5165 436.057,-52.4584 426.1122,-56.1124 430.5615,-61.5165\"/>\n",
       "</g>\n",
       "<!-- features__numeric__age&#45;&gt;classifier -->\n",
       "<g id=\"edge8\" class=\"edge\">\n",
       "<title>features__numeric__age&#45;&gt;classifier</title>\n",
       "<path fill=\"none\" stroke=\"#000000\" d=\"M545.4844,-91.3737C533.1782,-81.2419 518.8512,-69.4465 505.8393,-58.7337\"/>\n",
       "<polygon fill=\"#000000\" stroke=\"#000000\" points=\"507.8821,-55.882 497.9373,-52.228 503.4329,-61.2861 507.8821,-55.882\"/>\n",
       "</g>\n",
       "<!-- features__numeric__hours&#45;per&#45;week&#45;&gt;classifier -->\n",
       "<g id=\"edge9\" class=\"edge\">\n",
       "<title>features__numeric__hours&#45;per&#45;week&#45;&gt;classifier</title>\n",
       "<path fill=\"none\" stroke=\"#000000\" d=\"M725.2074,-95.7964C671.0038,-81.3195 599.0402,-62.0992 544.8779,-47.6334\"/>\n",
       "<polygon fill=\"#000000\" stroke=\"#000000\" points=\"545.5445,-44.1888 534.98,-44.9898 543.7382,-50.9517 545.5445,-44.1888\"/>\n",
       "</g>\n",
       "</g>\n",
       "</svg>\n"
      ],
      "text/plain": [
       "<graphviz.dot.Digraph at 0x7fbcc054c898>"
      ]
     },
     "execution_count": 12,
     "metadata": {},
     "output_type": "execute_result"
    }
   ],
   "source": [
    "visualize(pd_graph)"
   ]
  },
  {
   "cell_type": "markdown",
   "metadata": {},
   "source": [
    "## Module dis (discarded)"
   ]
  },
  {
   "cell_type": "code",
   "execution_count": null,
   "metadata": {},
   "outputs": [],
   "source": [
    "import dis\n",
    "saved = dis.dis(pipeline_test)\n",
    "code_info = dis.code_info(pipeline_test)\n",
    "print(code_info)\n",
    "instructions = dis.get_instructions(pipeline_test)\n",
    "for ins in instructions:\n",
    "    print(ins.opname)\n",
    "    \n",
    "for op in dis.get_instructions(pipeline_test):\n",
    "    print(op)"
   ]
  },
  {
   "cell_type": "code",
   "execution_count": 35,
   "metadata": {},
   "outputs": [
    {
     "data": {
      "text/plain": [
       "\" 10           0 LOAD_GLOBAL              0 (pd)\\n              2 LOAD_ATTR                1 (read_csv)\\n              4 LOAD_FAST                0 (f_path)\\n              6 LOAD_CONST               1 ('?')\\n              8 LOAD_CONST               2 (('na_values',))\\n             10 CALL_FUNCTION_KW         2\\n             12 STORE_FAST               2 (raw_data)\""
      ]
     },
     "execution_count": 35,
     "metadata": {},
     "output_type": "execute_result"
    }
   ],
   "source": [
    "dis.Bytecode(pipeline_test).dis().split('\\n\\n')[0]"
   ]
  },
  {
   "cell_type": "markdown",
   "metadata": {},
   "source": [
    "## Module mlinsights (discarded)"
   ]
  },
  {
   "cell_type": "code",
   "execution_count": 54,
   "metadata": {},
   "outputs": [
    {
     "name": "stdout",
     "output_type": "stream",
     "text": [
      "Pipeline\n",
      "   ColumnTransformer\n",
      "      OneHotEncoder(education,workclass)\n",
      "      StandardScaler(age,hours-per-week)\n",
      "   DecisionTreeClassifier\n"
     ]
    }
   ],
   "source": [
    "raw_data = pd.read_csv('data/adult-sample.csv', na_values='?')\n",
    "data = raw_data.dropna()\n",
    "\n",
    "labels = label_binarize(data['income-per-year'], ['>50K', '<=50K'])\n",
    "\n",
    "feature_transformation = sklearn.compose.ColumnTransformer(transformers=[\n",
    "    ('categorical', OneHotEncoder(handle_unknown='ignore'), ['education', 'workclass']),\n",
    "    ('numeric', StandardScaler(), ['age', 'hours-per-week'])\n",
    "])\n",
    "\n",
    "\n",
    "income_pipeline = Pipeline([\n",
    "  ('features', feature_transformation),\n",
    "  ('classifier', DecisionTreeClassifier())])\n",
    "\n",
    "from mlinsights.plotting import pipeline2str\n",
    "print(pipeline2str(income_pipeline))"
   ]
  },
  {
   "cell_type": "code",
   "execution_count": 58,
   "metadata": {},
   "outputs": [],
   "source": [
    "from mlinsights.plotting import pipeline2dot\n",
    "dot = pipeline2dot(income_pipeline, list(data.columns))"
   ]
  },
  {
   "cell_type": "code",
   "execution_count": 59,
   "metadata": {},
   "outputs": [],
   "source": [
    "dot_file = \"graph2.dot\"\n",
    "with open(dot_file, \"w\", encoding=\"utf-8\") as f:\n",
    "    f.write(dot)"
   ]
  },
  {
   "cell_type": "code",
   "execution_count": 62,
   "metadata": {},
   "outputs": [
    {
     "name": "stdout",
     "output_type": "stream",
     "text": [
      "[run_cmd] execute dot -G=300 -Tpng graph2.dot -ograph2.dot.png\n",
      "end of execution dot -G=300 -Tpng graph2.dot -ograph2.dot.png\n"
     ]
    }
   ],
   "source": [
    "from pyquickhelper.loghelper import run_cmd\n",
    "cmd = \"dot -G=300 -Tpng {0} -o{0}.png\".format(dot_file)\n",
    "run_cmd(cmd, wait=True, fLOG=print);"
   ]
  },
  {
   "cell_type": "code",
   "execution_count": 64,
   "metadata": {},
   "outputs": [
    {
     "data": {
      "image/png": "[encoded data removed]",
      "text/plain": [
       "<PIL.PngImagePlugin.PngImageFile image mode=RGB size=845x641 at 0x7F8608B9E630>"
      ]
     },
     "execution_count": 64,
     "metadata": {},
     "output_type": "execute_result"
    }
   ],
   "source": [
    "from PIL import Image\n",
    "img = Image.open(\"graph2.dot.png\")\n",
    "img"
   ]
  },
  {
   "cell_type": "code",
   "execution_count": 70,
   "metadata": {},
   "outputs": [
    {
     "name": "stderr",
     "output_type": "stream",
     "text": [
      "Source path:... <ipython-input-70-fe4a1502723a>\n",
      "Starting var:.. f_path = 'data/adult-sample.csv'\n",
      "Starting var:.. a = 0\n",
      "22:17:04.548090 call         4 def pipeline_test_hwk3_3(f_path = 'data/adult-sample.csv', a = 0):\n",
      "22:17:04.548314 line         6     raw_data = pd.read_csv(f_path, na_values='?')   #\n",
      "New var:....... raw_data =     age         workclass  fnlwgt     education ...=50K  99            >50K  [100 rows x 15 columns]\n",
      "22:17:04.558349 line         7     data = raw_data.dropna()     #\n",
      "New var:....... data =     age         workclass  fnlwgt     education ...<=50K  99            >50K  [92 rows x 15 columns]\n",
      "22:17:04.577225 line         9     labels = label_binarize(data['income-per-year'], ['>50K', '<=50K'])\n",
      "New var:....... labels = array([[1],       [1],       [1],       [1],    ...[0],       [0],       [1],       [1],       [0]])\n",
      "22:17:04.595268 line        11     feature_transformation = sklearn.compose.ColumnTransformer(transformers=[\n",
      "22:17:04.611114 line        12         ('categorical', OneHotEncoder(handle_unknown='ignore'), ['education', 'workclass']),\n",
      "22:17:04.625705 line        13         ('numeric', StandardScaler(), ['age', 'hours-per-week'])\n",
      "New var:....... feature_transformation = ColumnTransformer(n_jobs=None, remainder='drop',...urs-per-week'])],                  verbose=False)\n",
      "22:17:04.639584 line        17     income_pipeline = Pipeline([\n",
      "22:17:04.656314 line        18       ('features', feature_transformation),\n",
      "22:17:04.675722 line        19       ('classifier', DecisionTreeClassifier())])\n",
      "New var:....... income_pipeline = Pipeline(memory=None,         steps=[('features'...       splitter='best'))],         verbose=False)\n",
      "22:17:04.691531 return      19       ('classifier', DecisionTreeClassifier())])\n",
      "Return value:.. None\n"
     ]
    }
   ],
   "source": [
    "import pysnooper\n",
    "\n",
    "@pysnooper.snoop()\n",
    "def pipeline_test_hwk3_3(f_path = 'data/adult-sample.csv', a = 0):\n",
    "   \n",
    "    raw_data = pd.read_csv(f_path, na_values='?')   #\n",
    "    data = raw_data.dropna()     #\n",
    "\n",
    "    labels = label_binarize(data['income-per-year'], ['>50K', '<=50K'])\n",
    "\n",
    "    feature_transformation = sklearn.compose.ColumnTransformer(transformers=[\n",
    "        ('categorical', OneHotEncoder(handle_unknown='ignore'), ['education', 'workclass']),\n",
    "        ('numeric', StandardScaler(), ['age', 'hours-per-week'])\n",
    "    ])\n",
    "\n",
    "        \n",
    "    income_pipeline = Pipeline([\n",
    "      ('features', feature_transformation),\n",
    "      ('classifier', DecisionTreeClassifier())])\n",
    "    \n",
    "pipeline_test_hwk3_3()"
   ]
  },
  {
   "cell_type": "code",
   "execution_count": null,
   "metadata": {},
   "outputs": [],
   "source": []
  }
 ],
 "metadata": {
  "kernelspec": {
   "display_name": "Python 3",
   "language": "python",
   "name": "python3"
  },
  "language_info": {
   "codemirror_mode": {
    "name": "ipython",
    "version": 3
   },
   "file_extension": ".py",
   "mimetype": "text/x-python",
   "name": "python",
   "nbconvert_exporter": "python",
   "pygments_lexer": "ipython3",
   "version": "3.6.8"
  }
 },
 "nbformat": 4,
 "nbformat_minor": 2
}
