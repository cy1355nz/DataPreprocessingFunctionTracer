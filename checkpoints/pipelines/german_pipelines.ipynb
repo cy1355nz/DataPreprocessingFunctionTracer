{
 "cells": [
  {
   "cell_type": "code",
   "execution_count": 10,
   "metadata": {},
   "outputs": [],
   "source": [
    "import trace \n",
    "import pandas as pd\n",
    "import numpy as np\n",
    "from sklearn.pipeline import Pipeline\n",
    "from sklearn.tree import DecisionTreeClassifier\n",
    "from sklearn.preprocessing import OneHotEncoder, StandardScaler, label_binarize\n",
    "from sklearn.compose import ColumnTransformer\n",
    "from sklearn.impute import SimpleImputer\n",
    "import inspect\n"
   ]
  },
  {
   "cell_type": "code",
   "execution_count": 11,
   "metadata": {},
   "outputs": [],
   "source": [
    "import pandas as pd\n",
    "from sklearn.model_selection import train_test_split\n",
    "from sklearn.pipeline import Pipeline\n",
    "from sklearn.impute import SimpleImputer\n",
    "from sklearn.preprocessing import StandardScaler, OneHotEncoder\n",
    "from sklearn.compose import ColumnTransformer\n",
    "from sklearn.ensemble import RandomForestClassifier\n"
   ]
  },
  {
   "cell_type": "code",
   "execution_count": 35,
   "metadata": {},
   "outputs": [],
   "source": [
    "col_header = ['status_of_existing_account', 'duration_in_month', 'credit_his', 'purpose', 'credit_amt', 'saving_account', 'preset_emp', 'installment_rate', 'personal_status_and_sex', 'guarantors', 'present_residence', \n",
    "             'property', 'age', 'other_installment_plans', 'housing', 'No_existing_accounts', 'job', 'No_liable_people', 'telephone', 'foreign_worker', 'label']\n"
   ]
  },
  {
   "cell_type": "code",
   "execution_count": 41,
   "metadata": {},
   "outputs": [],
   "source": [
    "german = pd.read_csv('../data/german.data', sep = ' ', names=col_header)"
   ]
  },
  {
   "cell_type": "code",
   "execution_count": 39,
   "metadata": {},
   "outputs": [],
   "source": [
    "german.to_csv('../data/german_titled.csv')"
   ]
  },
  {
   "cell_type": "code",
   "execution_count": 42,
   "metadata": {},
   "outputs": [],
   "source": [
    "german['identifier'] = german.index"
   ]
  },
  {
   "cell_type": "code",
   "execution_count": 49,
   "metadata": {},
   "outputs": [],
   "source": [
    "german_split_1 = german[['identifier']+col_header[:10]]\n",
    "german_split_2 = german[['identifier']+col_header[10:]]"
   ]
  },
  {
   "cell_type": "code",
   "execution_count": 52,
   "metadata": {},
   "outputs": [],
   "source": [
    "german_split_1.to_csv('../data/german_titled_split_1.csv')\n",
    "german_split_2.to_csv('../data/german_titled_split_2.csv')"
   ]
  },
  {
   "cell_type": "code",
   "execution_count": 73,
   "metadata": {},
   "outputs": [],
   "source": [
    "def german_pipeline_easy(f_path = '../data/german_titled.csv'):\n",
    "    '''\n",
    "    This pipeline takes in one csv and apply some easy operations upon it\n",
    "    '''\n",
    "    data = pd.read_csv(f_path)\n",
    "    # projection\n",
    "    data = data[['status_of_existing_account', 'duration_in_month', 'credit_his', 'purpose', 'credit_amt', 'saving_account', 'preset_emp', 'installment_rate', 'personal_status_and_sex', 'guarantors', 'present_residence', \n",
    "                 'property', 'age','label']]\n",
    "    # filtering\n",
    "    data = data[data.credit_amt>=4000]\n",
    "\n",
    "    #start sklearn pipeline\n",
    "    one_hot_and_impute = Pipeline([\n",
    "        ('imputer', SimpleImputer(strategy='most_frequent')),\n",
    "        ('onehot', OneHotEncoder())\n",
    "    ])\n",
    "\n",
    "    featurizer = ColumnTransformer(transformers=[\n",
    "        ('onehot', OneHotEncoder(), ['status_of_existing_account', 'credit_his','purpose', 'saving_account', 'preset_emp']),\n",
    "        ('impute_onehot', one_hot_and_impute, ['personal_status_and_sex', 'guarantors', 'property']),\n",
    "        ('std_scaler', StandardScaler(), ['duration_in_month', 'credit_amt', 'present_residence', 'age'])\n",
    "    ])\n",
    "    pipeline = Pipeline([\n",
    "        ('features', featurizer),\n",
    "        ('learner', RandomForestClassifier())\n",
    "    ])\n",
    "    return pipeline\n",
    "    "
   ]
  },
  {
   "cell_type": "code",
   "execution_count": 113,
   "metadata": {},
   "outputs": [],
   "source": [
    "def german_pipeline_normal(f_path = '../data/german_titled.csv'):\n",
    "    f_path_1 = '../data/german_titled_split_1.csv'\n",
    "    f_path_2 = '../data/german_titled_split_2.csv'\n",
    "\n",
    "    # load data\n",
    "    data_split_1 = pd.read_csv(f_path_1, index_col = 0)\n",
    "    data_split_2 = pd.read_csv(f_path_2, index_col = 0)\n",
    "\n",
    "    # join\n",
    "    data = pd.merge(data_split_1, data_split_2, on='identifier')\n",
    "\n",
    "    # drop first col\n",
    "    data.drop(data.columns[0], axis=1, inplace = True)\n",
    "\n",
    "    # projection\n",
    "    data = data[['status_of_existing_account', 'duration_in_month', 'credit_his', 'purpose', 'credit_amt', 'saving_account', 'preset_emp', 'installment_rate', 'personal_status_and_sex', 'guarantors', 'present_residence', \n",
    "                 'property', 'age','label']]\n",
    "    # filtering\n",
    "    data = data[data.credit_amt>=4000]\n",
    "\n",
    "    #start sklearn pipeline\n",
    "    one_hot_and_impute = Pipeline([\n",
    "        ('imputer', SimpleImputer(strategy='most_frequent')),\n",
    "        ('onehot', OneHotEncoder())\n",
    "    ])\n",
    "\n",
    "    featurizer = ColumnTransformer(transformers=[\n",
    "        ('onehot', OneHotEncoder(), ['status_of_existing_account', 'credit_his','purpose', 'saving_account', 'preset_emp']),\n",
    "        ('impute_onehot', one_hot_and_impute, ['personal_status_and_sex', 'guarantors', 'property']),\n",
    "        ('std_scaler', StandardScaler(), ['duration_in_month', 'credit_amt', 'present_residence', 'age'])\n",
    "    ])\n",
    "    pipeline = Pipeline([\n",
    "        ('features', featurizer),\n",
    "        ('learner', RandomForestClassifier())\n",
    "    ])\n",
    "    return pipeline\n"
   ]
  },
  {
   "cell_type": "code",
   "execution_count": null,
   "metadata": {},
   "outputs": [],
   "source": []
  }
 ],
 "metadata": {
  "kernelspec": {
   "display_name": "Python 3",
   "language": "python",
   "name": "python3"
  },
  "language_info": {
   "codemirror_mode": {
    "name": "ipython",
    "version": 3
   },
   "file_extension": ".py",
   "mimetype": "text/x-python",
   "name": "python",
   "nbconvert_exporter": "python",
   "pygments_lexer": "ipython3",
   "version": "3.7.4"
  }
 },
 "nbformat": 4,
 "nbformat_minor": 4
}
